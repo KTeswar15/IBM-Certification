{
 "cells": [
  {
   "cell_type": "markdown",
   "id": "dee29b00",
   "metadata": {},
   "source": [
    "# Data Science Tools and Ecosytem"
   ]
  },
  {
   "cell_type": "markdown",
   "id": "edd95747",
   "metadata": {},
   "source": [
    "In this notebook, Data science tools and ecosystem are summarized"
   ]
  },
  {
   "cell_type": "markdown",
   "id": "e9f6cd3e",
   "metadata": {},
   "source": [
    "**Objectives**:\n",
    "* jupyter notebooks\n",
    "* markdown\n",
    "* different data science languages\n",
    "    "
   ]
  },
  {
   "cell_type": "markdown",
   "id": "a103f85e",
   "metadata": {},
   "source": [
    "Some of the popular languages data scientists use are:\n",
    "1. Python\n",
    "2. R\n",
    "3. Java"
   ]
  },
  {
   "cell_type": "markdown",
   "id": "e92c5497",
   "metadata": {},
   "source": [
    "some of the popular libraries used in data science are:\n",
    "1. pandas\n",
    "2. numpys\n",
    "3. matplotlib"
   ]
  },
  {
   "cell_type": "markdown",
   "id": "784aa3e5",
   "metadata": {},
   "source": [
    "| Data Science Tools |\n",
    "|-----------|\n",
    "| pycharm |\n",
    "| jupyter notebook |\n",
    "| jupyterLab |"
   ]
  },
  {
   "cell_type": "markdown",
   "id": "5e22d142",
   "metadata": {},
   "source": [
    "### Some arithmetic expressions in python:\n"
   ]
  },
  {
   "cell_type": "code",
   "execution_count": 3,
   "id": "6ee3c645",
   "metadata": {},
   "outputs": [
    {
     "data": {
      "text/plain": [
       "17"
      ]
     },
     "execution_count": 3,
     "metadata": {},
     "output_type": "execute_result"
    }
   ],
   "source": [
    "#this is a simple arithmetic to multiple and add integers\n",
    "(3*4)+5"
   ]
  },
  {
   "cell_type": "code",
   "execution_count": 6,
   "id": "9c8fbb1f",
   "metadata": {},
   "outputs": [
    {
     "data": {
      "text/plain": [
       "(3.3333333333333335, 'hours')"
      ]
     },
     "execution_count": 6,
     "metadata": {},
     "output_type": "execute_result"
    }
   ],
   "source": [
    "#this will convert 200 minutes into hours:\n",
    "200/60 , ('hours')"
   ]
  },
  {
   "cell_type": "markdown",
   "id": "37132d3d",
   "metadata": {},
   "source": [
    "## **Author**: \n",
    "keerthana"
   ]
  },
  {
   "cell_type": "code",
   "execution_count": null,
   "id": "82045dae",
   "metadata": {},
   "outputs": [],
   "source": []
  }
 ],
 "metadata": {
  "kernelspec": {
   "display_name": "Python 3 (ipykernel)",
   "language": "python",
   "name": "python3"
  },
  "language_info": {
   "codemirror_mode": {
    "name": "ipython",
    "version": 3
   },
   "file_extension": ".py",
   "mimetype": "text/x-python",
   "name": "python",
   "nbconvert_exporter": "python",
   "pygments_lexer": "ipython3",
   "version": "3.10.9"
  }
 },
 "nbformat": 4,
 "nbformat_minor": 5
}
